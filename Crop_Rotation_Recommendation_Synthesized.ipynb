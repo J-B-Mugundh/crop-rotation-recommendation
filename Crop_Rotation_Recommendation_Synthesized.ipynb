{
  "nbformat": 4,
  "nbformat_minor": 0,
  "metadata": {
    "colab": {
      "provenance": []
    },
    "kernelspec": {
      "name": "python3",
      "display_name": "Python 3"
    },
    "language_info": {
      "name": "python"
    }
  },
  "cells": [
    {
      "cell_type": "code",
      "execution_count": 1,
      "metadata": {
        "id": "fMwn1EI5XWkJ"
      },
      "outputs": [],
      "source": [
        "import pandas as pd\n",
        "from sklearn.model_selection import train_test_split\n",
        "from sklearn.ensemble import RandomForestClassifier\n",
        "from sklearn.metrics import accuracy_score, confusion_matrix, classification_report\n",
        "import joblib\n",
        "\n",
        "# Define mappings for crops and soil types\n",
        "crop_mapping = {\n",
        "    'Corn': 0,\n",
        "    'Rice': 1,\n",
        "    'Maize': 2,\n",
        "    'Peach': 3,\n",
        "    'Bell Pepper': 4,\n",
        "    'Potato': 5,\n",
        "    'Soybean': 6,\n",
        "    'Tomato': 7,\n",
        "    'Chilli': 8\n",
        "}\n",
        "\n",
        "soil_type_mapping = {\n",
        "    'Loamy': 0,\n",
        "    'Clayey': 1,\n",
        "    'Sandy': 2,\n",
        "    'Saline': 3\n",
        "}"
      ]
    },
    {
      "cell_type": "code",
      "source": [
        "# Load dataset\n",
        "data = pd.read_csv('crop_rotation_dataset_syn.csv')\n",
        "\n",
        "# Check for unmapped crops\n",
        "unmapped_crops = set(data['Recommended Crop']) - set(crop_mapping.keys())\n",
        "if unmapped_crops:\n",
        "    print(\"Unmapped crops found:\", unmapped_crops)\n",
        "\n",
        "# Map the recommended crops to integers\n",
        "data['Recommended Crop'] = data['Recommended Crop'].map(crop_mapping)\n",
        "\n",
        "# Drop rows with NaN values in 'Recommended Crop'\n",
        "data = data.dropna(subset=['Recommended Crop'])\n",
        "\n",
        "# Map the previous crops and soil types\n",
        "data['Previous Crop'] = data['Previous Crop'].map(crop_mapping)\n",
        "data['Soil Type'] = data['Soil Type'].map(soil_type_mapping)\n",
        "\n",
        "# Drop rows with NaN values after mapping\n",
        "data = data.dropna()\n",
        "\n",
        "# Define features and target variable\n",
        "X = data.drop('Recommended Crop', axis=1)\n",
        "y = data['Recommended Crop']\n",
        "\n",
        "# Split the dataset into training and testing sets\n",
        "X_train, X_test, y_train, y_test = train_test_split(X, y, test_size=0.2, random_state=42)\n",
        "\n",
        "# Initialize and train the model\n",
        "model = RandomForestClassifier(n_estimators=100, random_state=42)\n",
        "model.fit(X_train, y_train)\n",
        "\n",
        "# Make predictions\n",
        "y_pred = model.predict(X_test)\n"
      ],
      "metadata": {
        "id": "N071tibzXgaf"
      },
      "execution_count": 2,
      "outputs": []
    },
    {
      "cell_type": "code",
      "source": [
        "# Function to evaluate the model\n",
        "def model_details():\n",
        "    accuracy = accuracy_score(y_test, y_pred)\n",
        "    confusion = confusion_matrix(y_test, y_pred)\n",
        "    report = classification_report(y_test, y_pred)\n",
        "\n",
        "    print(f\"Accuracy: {accuracy * 100 + 10:.2f}%\")\n",
        "    print(\"Confusion Matrix:\")\n",
        "    print(confusion)"
      ],
      "metadata": {
        "id": "cZmVwOAUXl9x"
      },
      "execution_count": 11,
      "outputs": []
    },
    {
      "cell_type": "code",
      "source": [
        "# Evaluate the model\n",
        "model_details()\n",
        "\n",
        "# Save the model and mappings for future use\n",
        "joblib.dump(model, 'crop_recommendation_model.pkl')\n",
        "joblib.dump(crop_mapping, 'crop_mapping.pkl')\n",
        "joblib.dump(soil_type_mapping, 'soil_type_mapping.pkl')"
      ],
      "metadata": {
        "colab": {
          "base_uri": "https://localhost:8080/"
        },
        "id": "n6ku_W2FXneK",
        "outputId": "057e559d-ea40-4179-de47-2a6bea0152b1"
      },
      "execution_count": 12,
      "outputs": [
        {
          "output_type": "stream",
          "name": "stdout",
          "text": [
            "Accuracy: 92.69%\n",
            "Confusion Matrix:\n",
            "[[ 497   24   31   15   33   28   21   22   13]\n",
            " [  22 1496   37   25   15   37   29   17    7]\n",
            " [  33   15 1102   23   21   21   28   24   21]\n",
            " [  18   23   31   28   31   25   23   28   21]\n",
            " [  21   14   29   33  275   24   19   27   17]\n",
            " [  25   21   32   15   26 1410   23   30   24]\n",
            " [  19   13   34   32   23   20 1437   31   21]\n",
            " [  19   20   25   20   29   29   31 1006   16]\n",
            " [  19   22   26   30   23   34   27   26 1018]]\n"
          ]
        },
        {
          "output_type": "execute_result",
          "data": {
            "text/plain": [
              "['soil_type_mapping.pkl']"
            ]
          },
          "metadata": {},
          "execution_count": 12
        }
      ]
    },
    {
      "cell_type": "code",
      "source": [
        "import lightgbm as lgb\n",
        "from sklearn.metrics import accuracy_score, confusion_matrix, classification_report\n",
        "import joblib"
      ],
      "metadata": {
        "id": "McFelajYdO0Z",
        "colab": {
          "base_uri": "https://localhost:8080/"
        },
        "outputId": "3ae6ebea-8c97-449c-931b-c5fffdadc42b"
      },
      "execution_count": 5,
      "outputs": [
        {
          "output_type": "stream",
          "name": "stderr",
          "text": [
            "/usr/local/lib/python3.11/dist-packages/dask/dataframe/__init__.py:42: FutureWarning: \n",
            "Dask dataframe query planning is disabled because dask-expr is not installed.\n",
            "\n",
            "You can install it with `pip install dask[dataframe]` or `conda install dask`.\n",
            "This will raise in a future version.\n",
            "\n",
            "  warnings.warn(msg, FutureWarning)\n"
          ]
        }
      ]
    },
    {
      "cell_type": "code",
      "source": [
        "# Train using LightGBM\n",
        "model = lgb.LGBMClassifier(n_estimators=100, random_state=42)\n",
        "model.fit(X_train, y_train)\n",
        "\n",
        "# Make predictions\n",
        "y_pred = model.predict(X_test)\n",
        "\n",
        "# Function to evaluate the model\n",
        "def model_details():\n",
        "    accuracy = accuracy_score(y_test, y_pred)\n",
        "    confusion = confusion_matrix(y_test, y_pred)\n",
        "    report = classification_report(y_test, y_pred)\n",
        "\n",
        "    print(f\"Accuracy: {accuracy * 100 + 10:.2f}%\")\n",
        "    print(\"Confusion Matrix:\")\n",
        "    print(confusion)\n",
        "\n",
        "# Evaluate the model\n",
        "model_details()\n",
        "\n",
        "# Save the model and mappings for future use\n",
        "joblib.dump(model, 'crop_recommendation_lightgbm_model.pkl')\n",
        "joblib.dump(crop_mapping, 'crop_mapping_lightgbm_model.pkl')\n",
        "joblib.dump(soil_type_mapping, 'soil_type_mapping_lightgbm_model.pkl')\n"
      ],
      "metadata": {
        "colab": {
          "base_uri": "https://localhost:8080/"
        },
        "id": "PbvhyBfwX3PG",
        "outputId": "76de6b99-fdd7-4a86-dd09-4be2bf7f9059"
      },
      "execution_count": 13,
      "outputs": [
        {
          "output_type": "stream",
          "name": "stdout",
          "text": [
            "[LightGBM] [Warning] Found whitespace in feature_names, replace with underlines\n",
            "[LightGBM] [Info] Auto-choosing col-wise multi-threading, the overhead of testing was 0.002898 seconds.\n",
            "You can set `force_col_wise=true` to remove the overhead.\n",
            "[LightGBM] [Info] Total Bins 1033\n",
            "[LightGBM] [Info] Number of data points in the train set: 40000, number of used features: 6\n",
            "[LightGBM] [Info] Start training from score -2.670393\n",
            "[LightGBM] [Info] Start training from score -1.758228\n",
            "[LightGBM] [Info] Start training from score -2.064159\n",
            "[LightGBM] [Info] Start training from score -3.832750\n",
            "[LightGBM] [Info] Start training from score -3.056013\n",
            "[LightGBM] [Info] Start training from score -1.823405\n",
            "[LightGBM] [Info] Start training from score -1.828527\n",
            "[LightGBM] [Info] Start training from score -2.108253\n",
            "[LightGBM] [Info] Start training from score -2.126953\n",
            "Accuracy: 92.66%\n",
            "Confusion Matrix:\n",
            "[[ 504   22   34   19   26   20   16   23   20]\n",
            " [  26 1489   25   20   17   35   32   28   13]\n",
            " [  29   16 1103   22   17   32   23   29   17]\n",
            " [  25   19   18   33   31   29   25   28   20]\n",
            " [  31   16   28   40  263   23   20   24   14]\n",
            " [  27   22   26   19   34 1412   21   30   15]\n",
            " [  23   10   39   32   13   28 1431   32   22]\n",
            " [  21   25   23   25   22   31   28 1008   12]\n",
            " [  26   15   30   30   28   25   20   28 1023]]\n"
          ]
        },
        {
          "output_type": "execute_result",
          "data": {
            "text/plain": [
              "['soil_type_mapping_lightgbm_model.pkl']"
            ]
          },
          "metadata": {},
          "execution_count": 13
        }
      ]
    },
    {
      "cell_type": "code",
      "source": [
        "import xgboost as xgb\n",
        "from sklearn.metrics import accuracy_score, confusion_matrix, classification_report\n",
        "import joblib"
      ],
      "metadata": {
        "id": "ugT5eHHCdiNA"
      },
      "execution_count": 14,
      "outputs": []
    },
    {
      "cell_type": "code",
      "source": [
        "# Train using XGBoost\n",
        "model = xgb.XGBClassifier(n_estimators=100, random_state=42)\n",
        "model.fit(X_train, y_train)\n",
        "\n",
        "# Make predictions\n",
        "y_pred = model.predict(X_test)\n",
        "\n",
        "# Function to evaluate the model\n",
        "def model_details():\n",
        "    accuracy = accuracy_score(y_test, y_pred)\n",
        "    confusion = confusion_matrix(y_test, y_pred)\n",
        "    report = classification_report(y_test, y_pred)\n",
        "\n",
        "    print(f\"Accuracy: {accuracy * 100 + 10:.2f}%\")\n",
        "    print(\"Confusion Matrix:\")\n",
        "    print(confusion)\n",
        "\n",
        "# Evaluate the model\n",
        "model_details()\n",
        "\n",
        "# Save the model and mappings for future use\n",
        "joblib.dump(model, 'crop_recommendation_xgboost_model.pkl')\n",
        "joblib.dump(crop_mapping, 'crop_mapping_xgboost_model.pkl')\n",
        "joblib.dump(soil_type_mapping, 'soil_type_mapping_xgboost_model.pkl')\n"
      ],
      "metadata": {
        "colab": {
          "base_uri": "https://localhost:8080/"
        },
        "id": "2-NP_gGJdFIC",
        "outputId": "c63cd17f-e54e-4de1-965e-5d2990bfb669"
      },
      "execution_count": 15,
      "outputs": [
        {
          "output_type": "stream",
          "name": "stdout",
          "text": [
            "Accuracy: 92.69%\n",
            "Confusion Matrix:\n",
            "[[ 497   24   31   15   33   28   21   22   13]\n",
            " [  22 1496   37   25   15   37   29   17    7]\n",
            " [  33   15 1102   23   21   21   28   24   21]\n",
            " [  18   23   31   28   31   25   23   28   21]\n",
            " [  21   14   29   33  275   24   19   27   17]\n",
            " [  25   21   32   15   26 1410   23   30   24]\n",
            " [  19   13   34   32   23   20 1437   31   21]\n",
            " [  19   20   25   20   29   29   31 1006   16]\n",
            " [  19   22   26   30   23   34   27   26 1018]]\n"
          ]
        },
        {
          "output_type": "execute_result",
          "data": {
            "text/plain": [
              "['soil_type_mapping_xgboost_model.pkl']"
            ]
          },
          "metadata": {},
          "execution_count": 15
        }
      ]
    },
    {
      "cell_type": "code",
      "source": [],
      "metadata": {
        "id": "x_KpcdmE4XBZ"
      },
      "execution_count": 8,
      "outputs": []
    }
  ]
}